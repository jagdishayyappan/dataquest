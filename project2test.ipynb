{
 "cells": [
  {
   "cell_type": "code",
   "execution_count": 1,
   "id": "e26499be",
   "metadata": {
    "execution": {
     "iopub.execute_input": "2023-11-01T17:26:36.298430Z",
     "iopub.status.busy": "2023-11-01T17:26:36.297637Z",
     "iopub.status.idle": "2023-11-01T17:26:36.313374Z",
     "shell.execute_reply": "2023-11-01T17:26:36.312147Z"
    },
    "papermill": {
     "duration": 0.029668,
     "end_time": "2023-11-01T17:26:36.316762",
     "exception": false,
     "start_time": "2023-11-01T17:26:36.287094",
     "status": "completed"
    },
    "tags": []
   },
   "outputs": [],
   "source": [
    "from csv import reader"
   ]
  },
  {
   "cell_type": "code",
   "execution_count": 2,
   "id": "100725be",
   "metadata": {
    "execution": {
     "iopub.execute_input": "2023-11-01T17:26:36.334942Z",
     "iopub.status.busy": "2023-11-01T17:26:36.334523Z",
     "iopub.status.idle": "2023-11-01T17:26:36.454227Z",
     "shell.execute_reply": "2023-11-01T17:26:36.452763Z"
    },
    "papermill": {
     "duration": 0.131992,
     "end_time": "2023-11-01T17:26:36.457056",
     "exception": false,
     "start_time": "2023-11-01T17:26:36.325064",
     "status": "completed"
    },
    "tags": []
   },
   "outputs": [],
   "source": [
    "googleFile = open('/kaggle/input/google-play-store-apps/googleplaystore.csv')\n",
    "appleFile = open('/kaggle/input/app-store-apple-data-set-10k-apps/AppleStore.csv')\n",
    "\n",
    "googleData = list(reader(googleFile))\n",
    "appleData = list(reader(appleFile))"
   ]
  },
  {
   "cell_type": "code",
   "execution_count": 3,
   "id": "569c4e5a",
   "metadata": {
    "execution": {
     "iopub.execute_input": "2023-11-01T17:26:36.474789Z",
     "iopub.status.busy": "2023-11-01T17:26:36.474370Z",
     "iopub.status.idle": "2023-11-01T17:26:36.481858Z",
     "shell.execute_reply": "2023-11-01T17:26:36.480609Z"
    },
    "papermill": {
     "duration": 0.019094,
     "end_time": "2023-11-01T17:26:36.484198",
     "exception": false,
     "start_time": "2023-11-01T17:26:36.465104",
     "status": "completed"
    },
    "tags": []
   },
   "outputs": [],
   "source": [
    "def explore_data(dataset, start, end, rows_and_columns=False):\n",
    "    dataset_slice = dataset[start:end]    \n",
    "    for row in dataset_slice:\n",
    "        print(row)\n",
    "        print('\\n') # adds a new (empty) line after each row\n",
    "\n",
    "    if rows_and_columns:\n",
    "        print('Number of rows:', len(dataset))\n",
    "        print('Number of columns:', len(dataset[0]))"
   ]
  },
  {
   "cell_type": "code",
   "execution_count": 4,
   "id": "e2510de6",
   "metadata": {
    "execution": {
     "iopub.execute_input": "2023-11-01T17:26:36.501920Z",
     "iopub.status.busy": "2023-11-01T17:26:36.501467Z",
     "iopub.status.idle": "2023-11-01T17:26:36.508113Z",
     "shell.execute_reply": "2023-11-01T17:26:36.507242Z"
    },
    "papermill": {
     "duration": 0.019332,
     "end_time": "2023-11-01T17:26:36.511568",
     "exception": false,
     "start_time": "2023-11-01T17:26:36.492236",
     "status": "completed"
    },
    "tags": []
   },
   "outputs": [
    {
     "name": "stdout",
     "output_type": "stream",
     "text": [
      "['Photo Editor & Candy Camera & Grid & ScrapBook', 'ART_AND_DESIGN', '4.1', '159', '19M', '10,000+', 'Free', '0', 'Everyone', 'Art & Design', 'January 7, 2018', '1.0.0', '4.0.3 and up']\n",
      "\n",
      "\n",
      "['Coloring book moana', 'ART_AND_DESIGN', '3.9', '967', '14M', '500,000+', 'Free', '0', 'Everyone', 'Art & Design;Pretend Play', 'January 15, 2018', '2.0.0', '4.0.3 and up']\n",
      "\n",
      "\n",
      "['U Launcher Lite – FREE Live Cool Themes, Hide Apps', 'ART_AND_DESIGN', '4.7', '87510', '8.7M', '5,000,000+', 'Free', '0', 'Everyone', 'Art & Design', 'August 1, 2018', '1.2.4', '4.0.3 and up']\n",
      "\n",
      "\n",
      "Number of rows: 10841\n",
      "Number of columns: 13\n",
      "\n",
      "\n",
      "['1', '281656475', 'PAC-MAN Premium', '100788224', 'USD', '3.99', '21292', '26', '4', '4.5', '6.3.5', '4+', 'Games', '38', '5', '10', '1']\n",
      "\n",
      "\n",
      "['2', '281796108', 'Evernote - stay organized', '158578688', 'USD', '0', '161065', '26', '4', '3.5', '8.2.2', '4+', 'Productivity', '37', '5', '23', '1']\n",
      "\n",
      "\n",
      "['3', '281940292', 'WeatherBug - Local Weather, Radar, Maps, Alerts', '100524032', 'USD', '0', '188583', '2822', '3.5', '4.5', '5.0.0', '4+', 'Weather', '37', '5', '3', '1']\n",
      "\n",
      "\n",
      "Number of rows: 7197\n",
      "Number of columns: 17\n"
     ]
    }
   ],
   "source": [
    "explore_data(googleData[1:], 0, 3, True)\n",
    "print('\\n')\n",
    "explore_data(appleData[1:], 0, 3, True)"
   ]
  },
  {
   "cell_type": "code",
   "execution_count": 5,
   "id": "7dda9b72",
   "metadata": {
    "execution": {
     "iopub.execute_input": "2023-11-01T17:26:36.530857Z",
     "iopub.status.busy": "2023-11-01T17:26:36.529895Z",
     "iopub.status.idle": "2023-11-01T17:26:36.536245Z",
     "shell.execute_reply": "2023-11-01T17:26:36.534987Z"
    },
    "papermill": {
     "duration": 0.018151,
     "end_time": "2023-11-01T17:26:36.538403",
     "exception": false,
     "start_time": "2023-11-01T17:26:36.520252",
     "status": "completed"
    },
    "tags": []
   },
   "outputs": [
    {
     "name": "stdout",
     "output_type": "stream",
     "text": [
      "['App', 'Category', 'Rating', 'Reviews', 'Size', 'Installs', 'Type', 'Price', 'Content Rating', 'Genres', 'Last Updated', 'Current Ver', 'Android Ver'] \n",
      " \n",
      " ['', 'id', 'track_name', 'size_bytes', 'currency', 'price', 'rating_count_tot', 'rating_count_ver', 'user_rating', 'user_rating_ver', 'ver', 'cont_rating', 'prime_genre', 'sup_devices.num', 'ipadSc_urls.num', 'lang.num', 'vpp_lic']\n"
     ]
    }
   ],
   "source": [
    "#printed the column names to better understand the data and to decide which of these to \n",
    "#use in the analysis\n",
    "print(googleData[0], '\\n', '\\n', appleData[0])"
   ]
  },
  {
   "cell_type": "code",
   "execution_count": 6,
   "id": "82763d15",
   "metadata": {
    "execution": {
     "iopub.execute_input": "2023-11-01T17:26:36.556360Z",
     "iopub.status.busy": "2023-11-01T17:26:36.555950Z",
     "iopub.status.idle": "2023-11-01T17:26:36.561466Z",
     "shell.execute_reply": "2023-11-01T17:26:36.560249Z"
    },
    "papermill": {
     "duration": 0.017124,
     "end_time": "2023-11-01T17:26:36.563691",
     "exception": false,
     "start_time": "2023-11-01T17:26:36.546567",
     "status": "completed"
    },
    "tags": []
   },
   "outputs": [
    {
     "name": "stdout",
     "output_type": "stream",
     "text": [
      "['Life Made WI-Fi Touchscreen Photo Frame', '1.9', '19', '3.0M', '1,000+', 'Free', '0', 'Everyone', '', 'February 11, 2018', '1.0.19', '4.0 and up']\n"
     ]
    }
   ],
   "source": [
    "print(googleData[10473]) #Error in this row"
   ]
  },
  {
   "cell_type": "code",
   "execution_count": 7,
   "id": "36a60ff6",
   "metadata": {
    "execution": {
     "iopub.execute_input": "2023-11-01T17:26:36.581889Z",
     "iopub.status.busy": "2023-11-01T17:26:36.581480Z",
     "iopub.status.idle": "2023-11-01T17:26:36.586492Z",
     "shell.execute_reply": "2023-11-01T17:26:36.585358Z"
    },
    "papermill": {
     "duration": 0.017043,
     "end_time": "2023-11-01T17:26:36.588913",
     "exception": false,
     "start_time": "2023-11-01T17:26:36.571870",
     "status": "completed"
    },
    "tags": []
   },
   "outputs": [],
   "source": [
    "del googleData[10473] # deleting the row with the error"
   ]
  },
  {
   "cell_type": "code",
   "execution_count": 8,
   "id": "7c98a2b3",
   "metadata": {
    "execution": {
     "iopub.execute_input": "2023-11-01T17:26:36.607796Z",
     "iopub.status.busy": "2023-11-01T17:26:36.606648Z",
     "iopub.status.idle": "2023-11-01T17:26:37.377437Z",
     "shell.execute_reply": "2023-11-01T17:26:37.376116Z"
    },
    "papermill": {
     "duration": 0.783031,
     "end_time": "2023-11-01T17:26:37.380120",
     "exception": false,
     "start_time": "2023-11-01T17:26:36.597089",
     "status": "completed"
    },
    "tags": []
   },
   "outputs": [
    {
     "name": "stdout",
     "output_type": "stream",
     "text": [
      "Number of duplicate apps in google data set:  1181 \n",
      "\n",
      "Examples of the duplicates:  ['Quick PDF Scanner + OCR FREE', 'Box', 'Google My Business', 'ZOOM Cloud Meetings', 'join.me - Simple Meetings']\n"
     ]
    }
   ],
   "source": [
    "duplicateApps = []\n",
    "uniqueApps = []\n",
    "\n",
    "for app in googleData[1:]:\n",
    "    name = app[0]\n",
    "    if name in uniqueApps:\n",
    "        duplicateApps.append(name)\n",
    "    else:\n",
    "        uniqueApps.append(name)\n",
    "\n",
    "print('Number of duplicate apps in google data set: ',len(duplicateApps), '\\n')\n",
    "print('Examples of the duplicates: ', duplicateApps[:5])"
   ]
  },
  {
   "cell_type": "markdown",
   "id": "e7ccb957",
   "metadata": {
    "papermill": {
     "duration": 0.008239,
     "end_time": "2023-11-01T17:26:37.397162",
     "exception": false,
     "start_time": "2023-11-01T17:26:37.388923",
     "status": "completed"
    },
    "tags": []
   },
   "source": [
    "The main difference in these duplicate entries is with the number of reviews. The different numbers show the data was collected at different times. We can use this information to build a criterion for removing the duplicates. The higher the number of reviews, the more recent the data should be. Rather than removing duplicates randomly, we'll only keep the row with the highest number of reviews and remove the other entries for any given app."
   ]
  },
  {
   "cell_type": "code",
   "execution_count": 9,
   "id": "edf8add5",
   "metadata": {
    "execution": {
     "iopub.execute_input": "2023-11-01T17:26:37.416406Z",
     "iopub.status.busy": "2023-11-01T17:26:37.415975Z",
     "iopub.status.idle": "2023-11-01T17:26:37.436985Z",
     "shell.execute_reply": "2023-11-01T17:26:37.435521Z"
    },
    "papermill": {
     "duration": 0.033741,
     "end_time": "2023-11-01T17:26:37.439843",
     "exception": false,
     "start_time": "2023-11-01T17:26:37.406102",
     "status": "completed"
    },
    "tags": []
   },
   "outputs": [
    {
     "name": "stdout",
     "output_type": "stream",
     "text": [
      "9659\n"
     ]
    }
   ],
   "source": [
    "reviewsMax = {}\n",
    "\n",
    "for app in googleData[1:]:\n",
    "    name = app[0]\n",
    "    nReviews = float(app[3])\n",
    "    \n",
    "    if name in reviewsMax and reviewsMax[name] < nReviews:\n",
    "        reviewsMax[name] = nReviews\n",
    "    elif name not in reviewsMax:\n",
    "        reviewsMax[name] = nReviews\n",
    "\n",
    "print(len(reviewsMax))"
   ]
  },
  {
   "cell_type": "code",
   "execution_count": 10,
   "id": "b8720b5f",
   "metadata": {
    "execution": {
     "iopub.execute_input": "2023-11-01T17:26:37.460482Z",
     "iopub.status.busy": "2023-11-01T17:26:37.459824Z",
     "iopub.status.idle": "2023-11-01T17:26:38.229024Z",
     "shell.execute_reply": "2023-11-01T17:26:38.227552Z"
    },
    "papermill": {
     "duration": 0.782851,
     "end_time": "2023-11-01T17:26:38.231314",
     "exception": false,
     "start_time": "2023-11-01T17:26:37.448463",
     "status": "completed"
    },
    "tags": []
   },
   "outputs": [
    {
     "name": "stdout",
     "output_type": "stream",
     "text": [
      "9659\n"
     ]
    }
   ],
   "source": [
    "googleClean = []\n",
    "alreadyAdded = []\n",
    "\n",
    "for app in googleData[1:]:\n",
    "    name = app[0]\n",
    "    nReviews = float(app[3])\n",
    "    \n",
    "    if (nReviews == reviewsMax[name]) and (name not in alreadyAdded):\n",
    "        googleClean.append(app)\n",
    "        alreadyAdded.append(app[0])\n",
    "\n",
    "print(len(googleClean))"
   ]
  },
  {
   "cell_type": "markdown",
   "id": "b96ddd9f",
   "metadata": {
    "papermill": {
     "duration": 0.008221,
     "end_time": "2023-11-01T17:26:38.248291",
     "exception": false,
     "start_time": "2023-11-01T17:26:38.240070",
     "status": "completed"
    },
    "tags": []
   },
   "source": [
    "Added the unique rows to a new list of lists by comparing the reviews with the most number of reviews found in the `reviewsMax` dictionary. Now exploring the clean data in the following cell."
   ]
  },
  {
   "cell_type": "code",
   "execution_count": 11,
   "id": "e292c1c3",
   "metadata": {
    "execution": {
     "iopub.execute_input": "2023-11-01T17:26:38.267158Z",
     "iopub.status.busy": "2023-11-01T17:26:38.266731Z",
     "iopub.status.idle": "2023-11-01T17:26:38.276053Z",
     "shell.execute_reply": "2023-11-01T17:26:38.274984Z"
    },
    "papermill": {
     "duration": 0.021706,
     "end_time": "2023-11-01T17:26:38.278501",
     "exception": false,
     "start_time": "2023-11-01T17:26:38.256795",
     "status": "completed"
    },
    "tags": []
   },
   "outputs": [
    {
     "data": {
      "text/plain": [
       "False"
      ]
     },
     "execution_count": 11,
     "metadata": {},
     "output_type": "execute_result"
    }
   ],
   "source": [
    "def engOrNot(name):\n",
    "    noOfNonEng = 0\n",
    "    \n",
    "    for character in name:\n",
    "        if ord(character) > 127:\n",
    "            noOfNonEng += 1\n",
    "\n",
    "    if noOfNonEng > 3:\n",
    "        return False\n",
    "    else:\n",
    "        return True\n",
    "\n",
    "engOrNot('爱奇艺PPS -《欢乐颂2》电视剧热播')"
   ]
  },
  {
   "cell_type": "code",
   "execution_count": 12,
   "id": "fa067b5d",
   "metadata": {
    "execution": {
     "iopub.execute_input": "2023-11-01T17:26:38.297508Z",
     "iopub.status.busy": "2023-11-01T17:26:38.297147Z",
     "iopub.status.idle": "2023-11-01T17:26:38.357653Z",
     "shell.execute_reply": "2023-11-01T17:26:38.356658Z"
    },
    "papermill": {
     "duration": 0.073251,
     "end_time": "2023-11-01T17:26:38.360333",
     "exception": false,
     "start_time": "2023-11-01T17:26:38.287082",
     "status": "completed"
    },
    "tags": []
   },
   "outputs": [
    {
     "name": "stdout",
     "output_type": "stream",
     "text": [
      "['Photo Editor & Candy Camera & Grid & ScrapBook', 'ART_AND_DESIGN', '4.1', '159', '19M', '10,000+', 'Free', '0', 'Everyone', 'Art & Design', 'January 7, 2018', '1.0.0', '4.0.3 and up']\n",
      "\n",
      "\n",
      "['U Launcher Lite – FREE Live Cool Themes, Hide Apps', 'ART_AND_DESIGN', '4.7', '87510', '8.7M', '5,000,000+', 'Free', '0', 'Everyone', 'Art & Design', 'August 1, 2018', '1.2.4', '4.0.3 and up']\n",
      "\n",
      "\n",
      "['Sketch - Draw & Paint', 'ART_AND_DESIGN', '4.5', '215644', '25M', '50,000,000+', 'Free', '0', 'Teen', 'Art & Design', 'June 8, 2018', 'Varies with device', '4.2 and up']\n",
      "\n",
      "\n",
      "Number of rows: 9614\n",
      "Number of columns: 13\n",
      "\n",
      "\n",
      "['1', '281656475', 'PAC-MAN Premium', '100788224', 'USD', '3.99', '21292', '26', '4', '4.5', '6.3.5', '4+', 'Games', '38', '5', '10', '1']\n",
      "\n",
      "\n",
      "['2', '281796108', 'Evernote - stay organized', '158578688', 'USD', '0', '161065', '26', '4', '3.5', '8.2.2', '4+', 'Productivity', '37', '5', '23', '1']\n",
      "\n",
      "\n",
      "['3', '281940292', 'WeatherBug - Local Weather, Radar, Maps, Alerts', '100524032', 'USD', '0', '188583', '2822', '3.5', '4.5', '5.0.0', '4+', 'Weather', '37', '5', '3', '1']\n",
      "\n",
      "\n",
      "Number of rows: 6183\n",
      "Number of columns: 17\n"
     ]
    }
   ],
   "source": [
    "googleEng = []\n",
    "appleEng = []\n",
    "\n",
    "for app in googleClean:\n",
    "    if engOrNot(app[0]):\n",
    "        googleEng.append(app)\n",
    "\n",
    "for app in appleData[1:]:\n",
    "    if engOrNot(app[2]):\n",
    "        appleEng.append(app)\n",
    "\n",
    "explore_data(googleEng, 0, 3, True)\n",
    "print('\\n')\n",
    "explore_data(appleEng, 0, 3, True)"
   ]
  },
  {
   "cell_type": "code",
   "execution_count": 13,
   "id": "808cfa4c",
   "metadata": {
    "execution": {
     "iopub.execute_input": "2023-11-01T17:26:38.379866Z",
     "iopub.status.busy": "2023-11-01T17:26:38.379398Z",
     "iopub.status.idle": "2023-11-01T17:26:38.393176Z",
     "shell.execute_reply": "2023-11-01T17:26:38.391889Z"
    },
    "papermill": {
     "duration": 0.026331,
     "end_time": "2023-11-01T17:26:38.395550",
     "exception": false,
     "start_time": "2023-11-01T17:26:38.369219",
     "status": "completed"
    },
    "tags": []
   },
   "outputs": [
    {
     "name": "stdout",
     "output_type": "stream",
     "text": [
      "8864 \n",
      " 3222\n"
     ]
    }
   ],
   "source": [
    "googleFinal = []\n",
    "appleFinal = []\n",
    "\n",
    "for app in googleEng:\n",
    "    if app[7] == '0':\n",
    "        googleFinal.append(app)\n",
    "\n",
    "for app in appleEng:\n",
    "    if app[5] == '0':\n",
    "        appleFinal.append(app)\n",
    "\n",
    "print(len(googleFinal), '\\n', len(appleFinal))"
   ]
  },
  {
   "cell_type": "markdown",
   "id": "ae8157dc",
   "metadata": {
    "papermill": {
     "duration": 0.008692,
     "end_time": "2023-11-01T17:26:38.413138",
     "exception": false,
     "start_time": "2023-11-01T17:26:38.404446",
     "status": "completed"
    },
    "tags": []
   },
   "source": [
    "# Most Common Apps by Genre\n",
    "## Part One\n",
    "As we mentioned in the introduction, our aim is to determine the kinds of apps that are likely to attract more users because our revenue is highly influenced by the number of people using our apps.\n",
    "\n",
    "To minimize risks and overhead, our validation strategy for an app idea is comprised of three steps:\n",
    "\n",
    "Build a minimal Android version of the app, and add it to Google Play. If the app has a good response from users, we then develop it further. If the app is profitable after six months, we also build an iOS version of the app and add it to the App Store. Because our end goal is to add the app on both the App Store and Google Play, we need to find app profiles that are successful on both markets. For instance, a profile that might work well for both markets might be a productivity app that makes use of gamification.\n",
    "\n",
    "Let's begin the analysis by getting a sense of the most common genres for each market. For this, we'll build a frequency table for the prime_genre column of the App Store data set, and the Genres and Category columns of the Google Play data set."
   ]
  },
  {
   "cell_type": "code",
   "execution_count": 14,
   "id": "c9d6c9d4",
   "metadata": {
    "execution": {
     "iopub.execute_input": "2023-11-01T17:26:38.433039Z",
     "iopub.status.busy": "2023-11-01T17:26:38.432640Z",
     "iopub.status.idle": "2023-11-01T17:26:38.441417Z",
     "shell.execute_reply": "2023-11-01T17:26:38.440228Z"
    },
    "papermill": {
     "duration": 0.02194,
     "end_time": "2023-11-01T17:26:38.444066",
     "exception": false,
     "start_time": "2023-11-01T17:26:38.422126",
     "status": "completed"
    },
    "tags": []
   },
   "outputs": [],
   "source": [
    "def freq_table(dataset, index):\n",
    "    table = {}\n",
    "    total = 0\n",
    "    for row in dataset:\n",
    "        total += 1\n",
    "        if row[index] in table:\n",
    "            table[row[index]] += 1\n",
    "        else:\n",
    "            table[row[index]] = 1\n",
    "\n",
    "    tablePercent = {} \n",
    "    for key in table:\n",
    "        tablePercent[key] = (table[key]/total) * 100\n",
    "\n",
    "    return tablePercent\n",
    "\n",
    "\n",
    "def displayTable(dataset, index):\n",
    "    table = freq_table(dataset, index)\n",
    "    table_display = []\n",
    "    for key in table:\n",
    "        key_val_as_tuple = (table[key], key)\n",
    "        table_display.append(key_val_as_tuple)\n",
    "\n",
    "    table_sorted = sorted(table_display, reverse = True)\n",
    "    for entry in table_sorted:\n",
    "        print(entry[1], ':', entry[0])"
   ]
  },
  {
   "cell_type": "code",
   "execution_count": 15,
   "id": "8458c0b7",
   "metadata": {
    "execution": {
     "iopub.execute_input": "2023-11-01T17:26:38.465011Z",
     "iopub.status.busy": "2023-11-01T17:26:38.464581Z",
     "iopub.status.idle": "2023-11-01T17:26:38.472713Z",
     "shell.execute_reply": "2023-11-01T17:26:38.471544Z"
    },
    "papermill": {
     "duration": 0.022933,
     "end_time": "2023-11-01T17:26:38.475905",
     "exception": false,
     "start_time": "2023-11-01T17:26:38.452972",
     "status": "completed"
    },
    "tags": []
   },
   "outputs": [
    {
     "name": "stdout",
     "output_type": "stream",
     "text": [
      "Games : 58.16263190564867\n",
      "Entertainment : 7.883302296710118\n",
      "Photo & Video : 4.9658597144630665\n",
      "Education : 3.662321539416512\n",
      "Social Networking : 3.2898820608317814\n",
      "Shopping : 2.60707635009311\n",
      "Utilities : 2.5139664804469275\n",
      "Sports : 2.1415270018621975\n",
      "Music : 2.0484171322160147\n",
      "Health & Fitness : 2.0173805090006205\n",
      "Productivity : 1.7380509000620732\n",
      "Lifestyle : 1.5828677839851024\n",
      "News : 1.3345747982619491\n",
      "Travel : 1.2414649286157666\n",
      "Finance : 1.1173184357541899\n",
      "Weather : 0.8690254500310366\n",
      "Food & Drink : 0.8069522036002483\n",
      "Reference : 0.5586592178770949\n",
      "Business : 0.5276225946617008\n",
      "Book : 0.4345127250155183\n",
      "Navigation : 0.186219739292365\n",
      "Medical : 0.186219739292365\n",
      "Catalogs : 0.12414649286157665\n"
     ]
    }
   ],
   "source": [
    "displayTable(appleFinal, -5) #prime_genre"
   ]
  },
  {
   "cell_type": "code",
   "execution_count": 16,
   "id": "2792687f",
   "metadata": {
    "execution": {
     "iopub.execute_input": "2023-11-01T17:26:38.495764Z",
     "iopub.status.busy": "2023-11-01T17:26:38.495321Z",
     "iopub.status.idle": "2023-11-01T17:26:38.507996Z",
     "shell.execute_reply": "2023-11-01T17:26:38.506421Z"
    },
    "papermill": {
     "duration": 0.025363,
     "end_time": "2023-11-01T17:26:38.510254",
     "exception": false,
     "start_time": "2023-11-01T17:26:38.484891",
     "status": "completed"
    },
    "tags": []
   },
   "outputs": [
    {
     "name": "stdout",
     "output_type": "stream",
     "text": [
      "FAMILY : 18.907942238267147\n",
      "GAME : 9.724729241877256\n",
      "TOOLS : 8.461191335740072\n",
      "BUSINESS : 4.591606498194946\n",
      "LIFESTYLE : 3.9034296028880866\n",
      "PRODUCTIVITY : 3.892148014440433\n",
      "FINANCE : 3.7003610108303246\n",
      "MEDICAL : 3.531137184115524\n",
      "SPORTS : 3.395758122743682\n",
      "PERSONALIZATION : 3.3167870036101084\n",
      "COMMUNICATION : 3.2378158844765346\n",
      "HEALTH_AND_FITNESS : 3.0798736462093865\n",
      "PHOTOGRAPHY : 2.944494584837545\n",
      "NEWS_AND_MAGAZINES : 2.7978339350180503\n",
      "SOCIAL : 2.6624548736462095\n",
      "TRAVEL_AND_LOCAL : 2.33528880866426\n",
      "SHOPPING : 2.2450361010830324\n",
      "BOOKS_AND_REFERENCE : 2.1435018050541514\n",
      "DATING : 1.861462093862816\n",
      "VIDEO_PLAYERS : 1.7937725631768955\n",
      "MAPS_AND_NAVIGATION : 1.3989169675090252\n",
      "FOOD_AND_DRINK : 1.2409747292418771\n",
      "EDUCATION : 1.1620036101083033\n",
      "ENTERTAINMENT : 0.9589350180505415\n",
      "LIBRARIES_AND_DEMO : 0.9363718411552346\n",
      "AUTO_AND_VEHICLES : 0.9250902527075812\n",
      "HOUSE_AND_HOME : 0.8235559566787004\n",
      "WEATHER : 0.8009927797833934\n",
      "EVENTS : 0.7107400722021661\n",
      "PARENTING : 0.6543321299638989\n",
      "ART_AND_DESIGN : 0.6430505415162455\n",
      "COMICS : 0.6204873646209386\n",
      "BEAUTY : 0.5979241877256317\n"
     ]
    }
   ],
   "source": [
    "displayTable(googleFinal, 1)  #category"
   ]
  },
  {
   "cell_type": "code",
   "execution_count": 17,
   "id": "3fa57123",
   "metadata": {
    "execution": {
     "iopub.execute_input": "2023-11-01T17:26:38.530172Z",
     "iopub.status.busy": "2023-11-01T17:26:38.529766Z",
     "iopub.status.idle": "2023-11-01T17:26:38.544066Z",
     "shell.execute_reply": "2023-11-01T17:26:38.543037Z"
    },
    "papermill": {
     "duration": 0.027584,
     "end_time": "2023-11-01T17:26:38.546916",
     "exception": false,
     "start_time": "2023-11-01T17:26:38.519332",
     "status": "completed"
    },
    "tags": []
   },
   "outputs": [
    {
     "name": "stdout",
     "output_type": "stream",
     "text": [
      "Tools : 8.449909747292418\n",
      "Entertainment : 6.069494584837545\n",
      "Education : 5.347472924187725\n",
      "Business : 4.591606498194946\n",
      "Productivity : 3.892148014440433\n",
      "Lifestyle : 3.892148014440433\n",
      "Finance : 3.7003610108303246\n",
      "Medical : 3.531137184115524\n",
      "Sports : 3.463447653429603\n",
      "Personalization : 3.3167870036101084\n",
      "Communication : 3.2378158844765346\n",
      "Action : 3.1024368231046933\n",
      "Health & Fitness : 3.0798736462093865\n",
      "Photography : 2.944494584837545\n",
      "News & Magazines : 2.7978339350180503\n",
      "Social : 2.6624548736462095\n",
      "Travel & Local : 2.3240072202166067\n",
      "Shopping : 2.2450361010830324\n",
      "Books & Reference : 2.1435018050541514\n",
      "Simulation : 2.0419675090252705\n",
      "Dating : 1.861462093862816\n",
      "Arcade : 1.8501805054151623\n",
      "Video Players & Editors : 1.7712093862815883\n",
      "Casual : 1.7599277978339352\n",
      "Maps & Navigation : 1.3989169675090252\n",
      "Food & Drink : 1.2409747292418771\n",
      "Puzzle : 1.128158844765343\n",
      "Racing : 0.9927797833935018\n",
      "Role Playing : 0.9363718411552346\n",
      "Libraries & Demo : 0.9363718411552346\n",
      "Auto & Vehicles : 0.9250902527075812\n",
      "Strategy : 0.9138086642599278\n",
      "House & Home : 0.8235559566787004\n",
      "Weather : 0.8009927797833934\n",
      "Events : 0.7107400722021661\n",
      "Adventure : 0.6768953068592057\n",
      "Comics : 0.6092057761732852\n",
      "Beauty : 0.5979241877256317\n",
      "Art & Design : 0.5979241877256317\n",
      "Parenting : 0.4963898916967509\n",
      "Card : 0.45126353790613716\n",
      "Casino : 0.42870036101083037\n",
      "Trivia : 0.41741877256317694\n",
      "Educational;Education : 0.39485559566787\n",
      "Board : 0.3835740072202166\n",
      "Educational : 0.3722924187725632\n",
      "Education;Education : 0.33844765342960287\n",
      "Word : 0.2594765342960289\n",
      "Casual;Pretend Play : 0.236913357400722\n",
      "Music : 0.2030685920577617\n",
      "Racing;Action & Adventure : 0.16922382671480143\n",
      "Puzzle;Brain Games : 0.16922382671480143\n",
      "Entertainment;Music & Video : 0.16922382671480143\n",
      "Casual;Brain Games : 0.13537906137184114\n",
      "Casual;Action & Adventure : 0.13537906137184114\n",
      "Arcade;Action & Adventure : 0.12409747292418773\n",
      "Action;Action & Adventure : 0.10153429602888085\n",
      "Educational;Pretend Play : 0.09025270758122744\n",
      "Simulation;Action & Adventure : 0.078971119133574\n",
      "Parenting;Education : 0.078971119133574\n",
      "Entertainment;Brain Games : 0.078971119133574\n",
      "Board;Brain Games : 0.078971119133574\n",
      "Parenting;Music & Video : 0.06768953068592057\n",
      "Educational;Brain Games : 0.06768953068592057\n",
      "Casual;Creativity : 0.06768953068592057\n",
      "Art & Design;Creativity : 0.06768953068592057\n",
      "Education;Pretend Play : 0.056407942238267145\n",
      "Role Playing;Pretend Play : 0.04512635379061372\n",
      "Education;Creativity : 0.04512635379061372\n",
      "Role Playing;Action & Adventure : 0.033844765342960284\n",
      "Puzzle;Action & Adventure : 0.033844765342960284\n",
      "Entertainment;Creativity : 0.033844765342960284\n",
      "Entertainment;Action & Adventure : 0.033844765342960284\n",
      "Educational;Creativity : 0.033844765342960284\n",
      "Educational;Action & Adventure : 0.033844765342960284\n",
      "Education;Music & Video : 0.033844765342960284\n",
      "Education;Brain Games : 0.033844765342960284\n",
      "Education;Action & Adventure : 0.033844765342960284\n",
      "Adventure;Action & Adventure : 0.033844765342960284\n",
      "Video Players & Editors;Music & Video : 0.02256317689530686\n",
      "Sports;Action & Adventure : 0.02256317689530686\n",
      "Simulation;Pretend Play : 0.02256317689530686\n",
      "Puzzle;Creativity : 0.02256317689530686\n",
      "Music;Music & Video : 0.02256317689530686\n",
      "Entertainment;Pretend Play : 0.02256317689530686\n",
      "Casual;Education : 0.02256317689530686\n",
      "Board;Action & Adventure : 0.02256317689530686\n",
      "Video Players & Editors;Creativity : 0.01128158844765343\n",
      "Trivia;Education : 0.01128158844765343\n",
      "Travel & Local;Action & Adventure : 0.01128158844765343\n",
      "Tools;Education : 0.01128158844765343\n",
      "Strategy;Education : 0.01128158844765343\n",
      "Strategy;Creativity : 0.01128158844765343\n",
      "Strategy;Action & Adventure : 0.01128158844765343\n",
      "Simulation;Education : 0.01128158844765343\n",
      "Role Playing;Brain Games : 0.01128158844765343\n",
      "Racing;Pretend Play : 0.01128158844765343\n",
      "Puzzle;Education : 0.01128158844765343\n",
      "Parenting;Brain Games : 0.01128158844765343\n",
      "Music & Audio;Music & Video : 0.01128158844765343\n",
      "Lifestyle;Pretend Play : 0.01128158844765343\n",
      "Lifestyle;Education : 0.01128158844765343\n",
      "Health & Fitness;Education : 0.01128158844765343\n",
      "Health & Fitness;Action & Adventure : 0.01128158844765343\n",
      "Entertainment;Education : 0.01128158844765343\n",
      "Communication;Creativity : 0.01128158844765343\n",
      "Comics;Creativity : 0.01128158844765343\n",
      "Casual;Music & Video : 0.01128158844765343\n",
      "Card;Action & Adventure : 0.01128158844765343\n",
      "Books & Reference;Education : 0.01128158844765343\n",
      "Art & Design;Pretend Play : 0.01128158844765343\n",
      "Art & Design;Action & Adventure : 0.01128158844765343\n",
      "Arcade;Pretend Play : 0.01128158844765343\n",
      "Adventure;Education : 0.01128158844765343\n"
     ]
    }
   ],
   "source": [
    "displayTable(googleFinal, -4)"
   ]
  },
  {
   "cell_type": "code",
   "execution_count": 18,
   "id": "4342e707",
   "metadata": {
    "execution": {
     "iopub.execute_input": "2023-11-01T17:26:38.567805Z",
     "iopub.status.busy": "2023-11-01T17:26:38.567379Z",
     "iopub.status.idle": "2023-11-01T17:26:38.574905Z",
     "shell.execute_reply": "2023-11-01T17:26:38.573737Z"
    },
    "papermill": {
     "duration": 0.021018,
     "end_time": "2023-11-01T17:26:38.577347",
     "exception": false,
     "start_time": "2023-11-01T17:26:38.556329",
     "status": "completed"
    },
    "tags": []
   },
   "outputs": [],
   "source": [
    "appleGenre = freq_table(appleFinal, -5)"
   ]
  },
  {
   "cell_type": "code",
   "execution_count": 19,
   "id": "2e99f71f",
   "metadata": {
    "execution": {
     "iopub.execute_input": "2023-11-01T17:26:38.598275Z",
     "iopub.status.busy": "2023-11-01T17:26:38.597877Z",
     "iopub.status.idle": "2023-11-01T17:26:38.627211Z",
     "shell.execute_reply": "2023-11-01T17:26:38.625897Z"
    },
    "papermill": {
     "duration": 0.042425,
     "end_time": "2023-11-01T17:26:38.629613",
     "exception": false,
     "start_time": "2023-11-01T17:26:38.587188",
     "status": "completed"
    },
    "tags": []
   },
   "outputs": [
    {
     "name": "stdout",
     "output_type": "stream",
     "text": [
      "Productivity : 21028.410714285714\n",
      "Weather : 52279.892857142855\n",
      "Shopping : 26919.690476190477\n",
      "Reference : 74942.11111111111\n",
      "Finance : 31467.944444444445\n",
      "Music : 57326.530303030304\n",
      "Utilities : 18684.456790123455\n",
      "Travel : 28243.8\n",
      "Social Networking : 71548.34905660378\n",
      "Sports : 23008.898550724636\n",
      "Health & Fitness : 23298.015384615384\n",
      "Games : 22788.6696905016\n",
      "Food & Drink : 33333.92307692308\n",
      "News : 21248.023255813954\n",
      "Book : 39758.5\n",
      "Photo & Video : 28441.54375\n",
      "Entertainment : 14029.830708661417\n",
      "Business : 7491.117647058823\n",
      "Lifestyle : 16485.764705882353\n",
      "Education : 7003.983050847458\n",
      "Navigation : 86090.33333333333\n",
      "Medical : 612.0\n",
      "Catalogs : 4004.0\n"
     ]
    }
   ],
   "source": [
    "for genre in appleGenre:\n",
    "    total = 0\n",
    "    lenGenre = 0\n",
    "    \n",
    "    for app in appleFinal:\n",
    "        genreApp = app[-5]\n",
    "        if genreApp == genre:\n",
    "            lenGenre += 1\n",
    "            total += float(app[6])\n",
    "    avgNoRatings = total/lenGenre\n",
    "    print(genre, ':', avgNoRatings)"
   ]
  },
  {
   "cell_type": "code",
   "execution_count": 20,
   "id": "00219ed9",
   "metadata": {
    "execution": {
     "iopub.execute_input": "2023-11-01T17:26:38.650280Z",
     "iopub.status.busy": "2023-11-01T17:26:38.649896Z",
     "iopub.status.idle": "2023-11-01T17:26:38.660366Z",
     "shell.execute_reply": "2023-11-01T17:26:38.659208Z"
    },
    "papermill": {
     "duration": 0.023731,
     "end_time": "2023-11-01T17:26:38.662781",
     "exception": false,
     "start_time": "2023-11-01T17:26:38.639050",
     "status": "completed"
    },
    "tags": []
   },
   "outputs": [],
   "source": [
    "googleCategory = freq_table(googleFinal, 1)"
   ]
  },
  {
   "cell_type": "code",
   "execution_count": 21,
   "id": "b8e5475d",
   "metadata": {
    "execution": {
     "iopub.execute_input": "2023-11-01T17:26:38.684188Z",
     "iopub.status.busy": "2023-11-01T17:26:38.683796Z",
     "iopub.status.idle": "2023-11-01T17:26:38.778018Z",
     "shell.execute_reply": "2023-11-01T17:26:38.776882Z"
    },
    "papermill": {
     "duration": 0.108118,
     "end_time": "2023-11-01T17:26:38.780637",
     "exception": false,
     "start_time": "2023-11-01T17:26:38.672519",
     "status": "completed"
    },
    "tags": []
   },
   "outputs": [
    {
     "name": "stdout",
     "output_type": "stream",
     "text": [
      "ART_AND_DESIGN : 1986335.0877192982\n",
      "AUTO_AND_VEHICLES : 647317.8170731707\n",
      "BEAUTY : 513151.88679245283\n",
      "BOOKS_AND_REFERENCE : 8767811.894736841\n",
      "BUSINESS : 1712290.1474201474\n",
      "COMICS : 817657.2727272727\n",
      "COMMUNICATION : 38456119.167247385\n",
      "DATING : 854028.8303030303\n",
      "EDUCATION : 1833495.145631068\n",
      "ENTERTAINMENT : 11640705.88235294\n",
      "EVENTS : 253542.22222222222\n",
      "FINANCE : 1387692.475609756\n",
      "FOOD_AND_DRINK : 1924897.7363636363\n",
      "HEALTH_AND_FITNESS : 4188821.9853479853\n",
      "HOUSE_AND_HOME : 1331540.5616438356\n",
      "LIBRARIES_AND_DEMO : 638503.734939759\n",
      "LIFESTYLE : 1437816.2687861272\n",
      "GAME : 15588015.603248259\n",
      "FAMILY : 3695641.8198090694\n",
      "MEDICAL : 120550.61980830671\n",
      "SOCIAL : 23253652.127118643\n",
      "SHOPPING : 7036877.311557789\n",
      "PHOTOGRAPHY : 17840110.40229885\n",
      "SPORTS : 3638640.1428571427\n",
      "TRAVEL_AND_LOCAL : 13984077.710144928\n",
      "TOOLS : 10801391.298666667\n",
      "PERSONALIZATION : 5201482.6122448975\n",
      "PRODUCTIVITY : 16787331.344927534\n",
      "PARENTING : 542603.6206896552\n",
      "WEATHER : 5074486.197183099\n",
      "VIDEO_PLAYERS : 24727872.452830188\n",
      "NEWS_AND_MAGAZINES : 9549178.467741935\n",
      "MAPS_AND_NAVIGATION : 4056941.7741935486\n"
     ]
    }
   ],
   "source": [
    "for category in googleCategory:\n",
    "    total = 0\n",
    "    lenCategory = 0\n",
    "    \n",
    "    for app in googleFinal:\n",
    "        appCategory = app[1]\n",
    "        if appCategory == category:\n",
    "            noOfInstalls = app[5]\n",
    "            noOfInstalls = noOfInstalls.replace(',','')\n",
    "            noOfInstalls = noOfInstalls.replace('+','')\n",
    "            total += float(noOfInstalls)\n",
    "            lenCategory += 1\n",
    "    avgInstalls = total/lenCategory\n",
    "    print(category,':',avgInstalls)"
   ]
  }
 ],
 "metadata": {
  "kernelspec": {
   "display_name": "Python 3",
   "language": "python",
   "name": "python3"
  },
  "language_info": {
   "codemirror_mode": {
    "name": "ipython",
    "version": 3
   },
   "file_extension": ".py",
   "mimetype": "text/x-python",
   "name": "python",
   "nbconvert_exporter": "python",
   "pygments_lexer": "ipython3",
   "version": "3.10.12"
  },
  "papermill": {
   "default_parameters": {},
   "duration": 6.483624,
   "end_time": "2023-11-01T17:26:39.210706",
   "environment_variables": {},
   "exception": null,
   "input_path": "__notebook__.ipynb",
   "output_path": "__notebook__.ipynb",
   "parameters": {},
   "start_time": "2023-11-01T17:26:32.727082",
   "version": "2.4.0"
  }
 },
 "nbformat": 4,
 "nbformat_minor": 5
}
