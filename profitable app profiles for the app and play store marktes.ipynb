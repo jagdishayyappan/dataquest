{
 "cells": [
  {
   "cell_type": "markdown",
   "id": "b8a6f503-8a50-41a3-a581-733501f9aa5c",
   "metadata": {},
   "source": [
    "## Analysing the app store and google paly markets for profitable apps\n",
    "\n",
    "The goal of the project is to find a category in which the application to be developed is profitable."
   ]
  },
  {
   "cell_type": "code",
   "execution_count": 1,
   "id": "fa7d4273-97b6-42e1-afcd-211dd000a842",
   "metadata": {},
   "outputs": [],
   "source": [
    "from csv import reader"
   ]
  },
  {
   "cell_type": "code",
   "execution_count": 2,
   "id": "b292d2b5-feb0-4abd-9cd1-6ac7bdccbe9e",
   "metadata": {},
   "outputs": [],
   "source": [
    "googleFile = open('myDatasets/googleplaystore.csv')\n",
    "appleFile = open('myDatasets/AppleStore.csv')\n",
    "\n",
    "googleData = list(reader(googleFile))\n",
    "appleData = list(reader(appleFile))"
   ]
  },
  {
   "cell_type": "code",
   "execution_count": 3,
   "id": "2386efac-f115-438b-aaa6-9d6ba1a6ff00",
   "metadata": {},
   "outputs": [],
   "source": [
    "def explore_data(dataset, start, end, rows_and_columns=False):\n",
    "    dataset_slice = dataset[start:end]    \n",
    "    for row in dataset_slice:\n",
    "        print(row)\n",
    "        print('\\n') # adds a new (empty) line after each row\n",
    "\n",
    "    if rows_and_columns:\n",
    "        print('Number of rows:', len(dataset))\n",
    "        print('Number of columns:', len(dataset[0]))"
   ]
  },
  {
   "cell_type": "code",
   "execution_count": 4,
   "id": "37eef606-d7bf-4558-b03d-e1c8732593b6",
   "metadata": {},
   "outputs": [
    {
     "name": "stdout",
     "output_type": "stream",
     "text": [
      "['Photo Editor & Candy Camera & Grid & ScrapBook', 'ART_AND_DESIGN', '4.1', '159', '19M', '10,000+', 'Free', '0', 'Everyone', 'Art & Design', 'January 7, 2018', '1.0.0', '4.0.3 and up']\n",
      "\n",
      "\n",
      "['Coloring book moana', 'ART_AND_DESIGN', '3.9', '967', '14M', '500,000+', 'Free', '0', 'Everyone', 'Art & Design;Pretend Play', 'January 15, 2018', '2.0.0', '4.0.3 and up']\n",
      "\n",
      "\n",
      "['U Launcher Lite – FREE Live Cool Themes, Hide Apps', 'ART_AND_DESIGN', '4.7', '87510', '8.7M', '5,000,000+', 'Free', '0', 'Everyone', 'Art & Design', 'August 1, 2018', '1.2.4', '4.0.3 and up']\n",
      "\n",
      "\n",
      "Number of rows: 10841\n",
      "Number of columns: 13\n",
      "\n",
      "\n",
      "['1', '281656475', 'PAC-MAN Premium', '100788224', 'USD', '3.99', '21292', '26', '4', '4.5', '6.3.5', '4+', 'Games', '38', '5', '10', '1']\n",
      "\n",
      "\n",
      "['2', '281796108', 'Evernote - stay organized', '158578688', 'USD', '0', '161065', '26', '4', '3.5', '8.2.2', '4+', 'Productivity', '37', '5', '23', '1']\n",
      "\n",
      "\n",
      "['3', '281940292', 'WeatherBug - Local Weather, Radar, Maps, Alerts', '100524032', 'USD', '0', '188583', '2822', '3.5', '4.5', '5.0.0', '4+', 'Weather', '37', '5', '3', '1']\n",
      "\n",
      "\n",
      "Number of rows: 7197\n",
      "Number of columns: 17\n"
     ]
    }
   ],
   "source": [
    "explore_data(googleData[1:], 0, 3, True)\n",
    "print('\\n')\n",
    "explore_data(appleData[1:], 0, 3, True)"
   ]
  },
  {
   "cell_type": "code",
   "execution_count": 5,
   "id": "90d684dc-f4f4-470f-86e3-51c0cf00a388",
   "metadata": {},
   "outputs": [
    {
     "name": "stdout",
     "output_type": "stream",
     "text": [
      "['App', 'Category', 'Rating', 'Reviews', 'Size', 'Installs', 'Type', 'Price', 'Content Rating', 'Genres', 'Last Updated', 'Current Ver', 'Android Ver'] \n",
      " \n",
      " ['', 'id', 'track_name', 'size_bytes', 'currency', 'price', 'rating_count_tot', 'rating_count_ver', 'user_rating', 'user_rating_ver', 'ver', 'cont_rating', 'prime_genre', 'sup_devices.num', 'ipadSc_urls.num', 'lang.num', 'vpp_lic']\n"
     ]
    }
   ],
   "source": [
    "#printed the column names to better understand the data and to decide which of these to \n",
    "#use in the analysis\n",
    "print(googleData[0], '\\n', '\\n', appleData[0])"
   ]
  },
  {
   "cell_type": "markdown",
   "id": "7c306c4e-11d8-432b-9400-8054fc0378de",
   "metadata": {},
   "source": [
    "**If you want to check the documentation of these datasets to better understand the column names, you can do so with the following links:**\n",
    "* [Google Play](https://www.kaggle.com/datasets/lava18/google-play-store-apps)\n",
    "* [App Store](https://www.kaggle.com/datasets/ramamet4/app-store-apple-data-set-10k-apps)"
   ]
  },
  {
   "cell_type": "code",
   "execution_count": 6,
   "id": "42adb1c9-6e1e-4ce5-aaea-b52d966137aa",
   "metadata": {},
   "outputs": [
    {
     "name": "stdout",
     "output_type": "stream",
     "text": [
      "['Life Made WI-Fi Touchscreen Photo Frame', '1.9', '19', '3.0M', '1,000+', 'Free', '0', 'Everyone', '', 'February 11, 2018', '1.0.19', '4.0 and up']\n"
     ]
    }
   ],
   "source": [
    "print(googleData[10473]) #Error in this row"
   ]
  },
  {
   "cell_type": "code",
   "execution_count": 7,
   "id": "7d466f6c-f5d7-4c86-8e9b-e1af5e1f0763",
   "metadata": {},
   "outputs": [],
   "source": [
    "del googleData[10473] # deleting the row with the error"
   ]
  },
  {
   "cell_type": "code",
   "execution_count": null,
   "id": "c4d7bc74-266a-4927-9afb-22da9d69557d",
   "metadata": {},
   "outputs": [],
   "source": []
  }
 ],
 "metadata": {
  "kernelspec": {
   "display_name": "Python 3 (ipykernel)",
   "language": "python",
   "name": "python3"
  },
  "language_info": {
   "codemirror_mode": {
    "name": "ipython",
    "version": 3
   },
   "file_extension": ".py",
   "mimetype": "text/x-python",
   "name": "python",
   "nbconvert_exporter": "python",
   "pygments_lexer": "ipython3",
   "version": "3.11.5"
  }
 },
 "nbformat": 4,
 "nbformat_minor": 5
}
